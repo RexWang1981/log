{
 "cells": [
  {
   "cell_type": "code",
   "execution_count": null,
   "id": "bf0f2b25-a97b-4c4b-961a-5293c02c6ec1",
   "metadata": {},
   "outputs": [],
   "source": []
  },
  {
   "cell_type": "markdown",
   "id": "920afdd8-bda4-48c6-9828-c9dba3eb6aca",
   "metadata": {},
   "source": [
    "> 商人在理论上不如经济学教授，但是他的观念往往有事实根据，并且也肯用全部的意识使其实现；反之，经济学教授对于现实的观念往往不正确，他的理论很多，但是缺乏实现的能力和勇气。结果，发财的都是商人，而不是教授。\n",
    "_-德国二战元帅隆美尔_"
   ]
  },
  {
   "cell_type": "markdown",
   "id": "a9e210ca-1f05-48a8-b382-0f011a6c759f",
   "metadata": {},
   "source": [
    "> 特斯拉汽车的自动驾驶可以挽救数百万人的生命，但它可能首先会造成一些人的死亡，然后才能达到这个目标。_-- 彭_博社"
   ]
  },
  {
   "cell_type": "markdown",
   "id": "d07a6589-8d90-40bf-845d-f96da5292a7c",
   "metadata": {},
   "source": [
    "> 我认为，电动汽车比传统汽车更简单是一个谬论。因为电动汽车将复杂性从硬件转移到了软件，因此看上去硬件更简单。"
   ]
  },
  {
   "cell_type": "markdown",
   "id": "3e951889-d8fc-4ee0-853e-92890e0a034b",
   "metadata": {},
   "source": [
    "> 正常情况下，人生境遇的改变，是一个缓慢的过程，需要几代人的累积。只有运气特别好，你才可能有着大大超越父母的人生，或者说大大地超越你的起点。如果运气不好，你的人生可能还不如父母。"
   ]
  },
  {
   "cell_type": "markdown",
   "id": "c6b0789f-9e7f-490b-9ed9-d58f241e5c26",
   "metadata": {},
   "source": [
    "> 人生的原则,公司的规则,不妨简单一点,这样可能活得更容易。"
   ]
  },
  {
   "cell_type": "markdown",
   "id": "646b435e-ff0e-45af-9dcf-e3dd2772a64a",
   "metadata": {},
   "source": [
    "> 人生的原则、公司的规则，不妨简单一点，这样可能活得更容易。"
   ]
  },
  {
   "cell_type": "markdown",
   "id": "c30610a5-fa95-462b-ac9f-ca3a44667f84",
   "metadata": {},
   "source": [
    "> 一个人应该能够换尿布，策划战争，杀猪，开船，设计房子，写十四行诗，结算账户，砌墙，接脱臼的骨头，安慰濒死的人，服从命令，发布命令，携手合作，独立行动，解数学方程，分析新问题，铲粪，电脑编程，做出可口的饭，善打架，勇敢地死去。专业是昆虫学。_-Robert Heinlein_"
   ]
  },
  {
   "cell_type": "markdown",
   "id": "7bb58d66-b12f-4ef1-a684-29343d9b3b5c",
   "metadata": {},
   "source": [
    "> 企业实际上需要的不是程序员，而是能够帮助它们增加收入、降低成本的人。"
   ]
  },
  {
   "cell_type": "markdown",
   "id": "b0c15f3c-fa38-4ffd-a593-b3f5104ae976",
   "metadata": {},
   "source": [
    "> 我们都知道，如果可以回到过去，改变任何一件小事情，都将极大地改变未来。然而，几乎没有人想到，今天只要小小改变，就会改变自己的未来。er"
   ]
  },
  {
   "cell_type": "markdown",
   "id": "c569a53d-4ab0-4e2e-a58e-a24c408f3402",
   "metadata": {},
   "source": [
    "> 你知道，Instagram 被10亿美元收购时，只有12个员工吗？"
   ]
  },
  {
   "cell_type": "markdown",
   "id": "dcb7a9f7-5119-40be-9d75-2a676d3ec5cc",
   "metadata": {},
   "source": [
    "> 我口袋里有一个小设备，可以访问几乎全部的人类知识。我却用它与不认识的人进行毫无意义的争论，并看猫的照片。"
   ]
  },
  {
   "cell_type": "markdown",
   "id": "a161ecab-8110-4cb8-aa54-95651883c043",
   "metadata": {},
   "source": [
    "> “做得快”比“做得好”更重要。"
   ]
  },
  {
   "cell_type": "markdown",
   "id": "9c7757e8-a701-4655-a98c-aee4fee1a3b1",
   "metadata": {},
   "source": [
    "> 在 Netscape，我们有三条规则。\n",
    ">> 一条规则是，如果你看到一条蛇，不要打电话给管理委员会，不要打电话给朋友，不要组建一个团队，不要召开会议，你要做的<br>\n",
    ">> 二条规则是，不要跑回去玩那条死蛇。太多的人浪费了太多时间，为那些已经<br>\n",
    ">> 三条规则是，所有机会一开始的时候，看起来都像蛇，需要找到出<br>问题的地方。"
   ]
  },
  {
   "cell_type": "markdown",
   "id": "8992384b-fba3-4b89-b6dd-2c34a06d31bf",
   "metadata": {},
   "source": [
    "> 大多数会议都是浪费时间。在我看来，最浪费时间的会议是“状态更新”会议，大家聚在一起分享自己的工作。"
   ]
  },
  {
   "cell_type": "markdown",
   "id": "8485d2a2-3808-493e-9ab7-eb31e634ee36",
   "metadata": {},
   "source": [
    "> 人的一生中，职业（包括通勤和思考工作的时间）将占去50,000至150,000个小时。目前，人类的寿命大约为750,000小时。当您减去童年（约175,000小时）和成年生活中睡眠、进食、锻炼和其他个人生活的时间（约325,000小时），那么剩下250,000个“有意义的成人小时” 。因此，职业将占用其中20％到60％之间的时间。"
   ]
  },
  {
   "cell_type": "markdown",
   "id": "4b7fee9f-4626-4a47-b8e1-a2c3a77eca0f",
   "metadata": {},
   "source": [
    "> \"Important\" does not mean \"popular\". _-Sam Altman_"
   ]
  },
  {
   "cell_type": "markdown",
   "id": "0c0267e9-943a-458c-8ede-7cd0bb9d3738",
   "metadata": {},
   "source": [
    "> 英国科学家发现，空气污染会导致抑郁症和自杀率上升。主要原因是，脏空气中的细颗粒物可以通过血流和鼻子到达大脑，导致大脑炎症增加，损害神经细胞，以及刺激激素产生，出现不良的心理健康。据估计，如果改善空气质量，可以减少15%的抑郁症。"
   ]
  },
  {
   "cell_type": "markdown",
   "id": "547e90b0-e706-4ed3-91bc-2886ae025732",
   "metadata": {},
   "source": [
    "> 他说：“既懂得制造，又懂得销售，你就是无敌的。”"
   ]
  },
  {
   "cell_type": "code",
   "execution_count": null,
   "id": "2bff5f9b-6d54-486b-8a3a-e023fc0b65ce",
   "metadata": {},
   "outputs": [],
   "source": []
  }
 ],
 "metadata": {
  "kernelspec": {
   "display_name": "Python 3 (ipykernel)",
   "language": "python",
   "name": "python3"
  },
  "language_info": {
   "codemirror_mode": {
    "name": "ipython",
    "version": 3
   },
   "file_extension": ".py",
   "mimetype": "text/x-python",
   "name": "python",
   "nbconvert_exporter": "python",
   "pygments_lexer": "ipython3",
   "version": "3.12.4"
  }
 },
 "nbformat": 4,
 "nbformat_minor": 5
}
