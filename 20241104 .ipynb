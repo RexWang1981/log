{
 "cells": [
  {
   "cell_type": "markdown",
   "id": "d4618158-2c14-4895-9a18-7edcbf7e99d8",
   "metadata": {},
   "source": [
    "# Evaporator Assembly and condenser Assembly"
   ]
  },
  {
   "cell_type": "markdown",
   "id": "be3263bc-4a74-4ff7-b259-31e8483822d0",
   "metadata": {},
   "source": [
    "_b'\\xe7\\x8e\\x8b\\xe4\\xbc\\x9f'_"
   ]
  },
  {
   "cell_type": "markdown",
   "id": "f512df52-a241-48fa-8f7b-03a6187f5745",
   "metadata": {},
   "source": [
    "![impage](https://media.licdn.com/dms/image/v2/D4E22AQFaCyUXvoEFzQ/feedshare-shrink_800/feedshare-shrink_800/0/1730278460089?e=1733356800&v=beta&t=WSxtX0GniShJrkCMq_OBsi6fPAHVjJUzc_-Uv5Ed7Ig)"
   ]
  },
  {
   "cell_type": "markdown",
   "id": "f2bf4f9a-96c5-4c66-93f9-db1f8c0016a2",
   "metadata": {},
   "source": [
    "> 在任何一个领域，刻意练习都是造就顶尖人才的方法，也是顶尖人才用来保持领先地位的方法。如果你想成为专业人士，刻意训练自己是绝对必不可少的。\n",
    ">\n",
    "> 如果你是一个高级工程师或者高级管理者，你所做的一切都有很高的机会成本，所以你选择的工作必须很重要。\n",
    ">\n",
    "> 你越能够不休息地工作，越说服自己像机器人一样工作，你在市场上的就业价值就越大。\n",
    ">\n",
    "> 正是因为机器尚且不能做到像人一样，所以我们还有工作可做。我们越是不知疲倦地工作，越是像机器人一样，那么老板越是开心。我们被利用的价值越大，失业的风险才会越低。\n",
    ">\n",
    "> 我发现，工作中与计算机打交道时，逻辑很有用，但与人打交道时，逻辑很少有用。\r\n",
    "事实上，对于绝大多数的人际交往，逻辑、严谨、辩论都是没用\n",
    ">\n",
    "> 科学研究最重要的行为准则之一，就是“不要相信权威的话”。他们太多的论点被证明是错误的，权威必须像其他人一样证明他们的论点。\n",
    ">\n",
    "> 事情几乎总是从某个人做一些当时看起来毫无用处的事情开始的。\n",
    ">\n",
    "> 如果想长期吸收学到的东西，你必须参与其中，亲自动手实践。\r\n",
    "但是，在智能手机流行的社会，真正的参与变得比以前困难。人们已经习惯了被动浏览别人的作品，分享、点赞和转发替代了自己的参\n",
    ">\n",
    "> 所有堆积如山的东西，都是不可预测的。\r\n",
    "简化系统的首选方法，就是将一个大系统，转变为多个更小的子系统组成的系\n",
    ">\n",
    "> 对于任何没有足够财富的人来说，从事科学理论研究事业是一种自私和不负责任的人生选择。\n",
    ">\n",
    "> 一直存在的旧技术不是恐龙，而是鲨鱼。它们很好地解决了问题，所以一直活到了现在，没有被快速变化的技术浪潮淘汰。\n",
    ">\n",
    "> 很多软件工程师除非被问到，否则不会发表意见。不要因为有人没当面发表意见，而认为他们没什么要补充的。有时，会议上嗓门最高的人是我最不想听的人。\n",
    ">\n",
    "> 始终努力构建一个更小的系统。\n",
    ">\n",
    "> 你需要养成的一个好习惯，就是强迫自己去做困难的事情。随着你做的事情越来越困难，你会逐渐建立起对自己能力的自信。\n",
    ">\n",
    "> 互联网很可能建立在废弃原则之上：一个好用的新事物出现，同类的现有事物很快就会被废弃。\n",
    ">\n",
    "> 生活就是当你忙着制定其他计划时，发生在你身上的事情。\n",
    ">\n",
    "> 不要在疲劳的时候写代码。敬业和专业精神，更多地体现在你的纪律性，而不是体现在投入的时间。\n",
    ">\n",
    "> 网页设计师的一个巨大错误，就是以为用户会仔细阅读页面。但是实际上，用户不阅读，只是扫描页面。\r\n",
    "因为大多数用户只想完成某件事，而且是快速完成，不想了解任何不必要的内\n",
    ">\n",
    "> 长期计划属于臆测，没有人能够未卜先知。篇幅庞大的计划书最终都会成为文件柜里的化石。\r\n",
    "你只需要决定这周要做什么，找出下一项最重要的任务，然后去做，不必去管全年计\r\n",
    "\r\n",
    "无计划地工作看上去挺悬，但是盲目遵循不切实际的计划，后果\n",
    ">\n",
    "> 可逆决定要快，不可逆决定要晚。\n",
    ">\n",
    "> 世界上有两种人：一种人接受教条并且知道它，另一种人接受教条但不知道它。\n",
    ">\n",
    "> 一项研究表明，领导力最重要的因素并不是能力，那些发言最多的人往往会成为团队的领导者。这称为“喋喋不休假说”。\n",
    ">\n",
    "> 有人说，不要学英文。你不学英文，将来在这个世界上怎么就业啊？\n",
    "> \r\n",
    "还有人说，不要学数学。数学和英语都不好，就进不了高端行业，农民的孩子永远是农民，阶层分化就出现\n",
    ">\n",
    "> 程序员的任务不仅仅是解决今天的问题，还要确保你的代码不会成为明天的问题。\n",
    ">\n",
    "> 人们表达对其他人的感激之情，有一种方式就是创造一些美好的东西。在你精心制作这个东西的过程中，你会把爱包含在里面，不知不觉传递出去。\n",
    ">\n",
    "> 我经常看到人们不断寻找最好的笔记 App、最好的 Linux 发行版、提高生产力的最佳 AI 软件、最好的游戏引擎……\r\n",
    "这样做并不会提高你的效率，你永远找不到最好或最完美的设置。我的建议是，只要一样东西足够好、能完成工作，你就不妨坚持用下去。不要盯着工具，而要盯着你要完成的工作。了。更糟糕。容。统。与。的。"
   ]
  },
  {
   "cell_type": "markdown",
   "id": "0fe42b1e-7881-48a1-a3e0-c5d52853e03d",
   "metadata": {},
   "source": [
    "ORTRAN\n",
    "* Java\n",
    "* C#"
   ]
  },
  {
   "cell_type": "markdown",
   "id": "602de04a-b176-4ce2-b99a-cc87b4d8c7c3",
   "metadata": {},
   "source": [
    "# Python for Data Analysis\n",
    "\n",
    "* Book on line: https://wesmckinney.com/book/preliminaries  \n",
    "* The book website: https://wesmckinney.com/book\n",
    "* [Official Python Tutorial](http://docs.python.org/)\n",
    "* Python Cookbook, Third Edition, by David Beazley and Brian K. Jones (O'Reilly)\n",
    "* \r\n",
    "Fluent Python by Luciano Ramalho (O'Reill\n",
    "* \r\n",
    "\r\n",
    "Effective Python, Second Edition, by Brett Slatkin (Addison-Wesley)\n",
    "<img src=\"https://amzn.to/3DyLaJc\" width=\"100\" length=\"150\"></img>\n",
    "\n",
    "* Python：\n",
    "  * [Pandas](https://pandas.pydata.org/)\n",
    "  * [scikit-learn](https://scikit-learn.org/)\n",
    "     * Classification: SVM, nearest neighbors, random forest, logistic regression, etc.\n",
    "     * Regression: Lasso, ridge regression, etc.\n",
    "     * Clustering: k-means, spectral clustering, etc.\n",
    "     * Dimensionality reduction: PCA, feature selection, matrix factorization, etc.\n",
    "     * Model selection: Grid search, cross-validation, metrics\n",
    "     * Preprocessing: Feature extraction, normalization\n",
    "  * [Numpy](https://numpy.org/)\n",
    "     * numpy.linalg\n",
    "  * [matplotlib](https://matplotlib.org/)\n",
    "  * [IPython ](https://ipython.org/) as kernel \n",
    "  * [Jupyter](https://jupyter.org/)\n",
    "     *  [accompanying book materials on GitHub](https://github.com/wesm/pydata-book)\n",
    "     *  [mirror of above link](https://gitee.com/wesmckinn/pydata-book)\n",
    "  *  [SciPy](https://scipy.org/)\n",
    "     *  scipy.integrate: Numerical integration routines and differential equation solvers\n",
    "     *  scipy.linalg: Linear algebra routines and matrix decompositions extending beyond those provided in numpy.linalg\n",
    "     *  scipy.optimize: Function optimizers (minimizers) and root finding algorithms\n",
    "     *  scipy.signal: Signal processing tools\n",
    "     *  scipy.sparse: Sparse matrices and sparse linear system solvers\n",
    "     *  scipy.special: Wrapper around SPECFUN, a FORTRAN library implementing many common mathematical functions, such as the gamma function\n",
    "     *  scipy.stats: Standard continuous and discrete probability distributions (density functions, samplers, continuous distribution functions), various statistical tests, and more descriptive statistics\n",
    "  *  [statsmodels](https://statsmodels.org/)\n",
    "     *  Regression models: linear regression, generalized linear models, robust linear models, linear mixed effects models, etc.\n",
    "     *  Analysis of variance (ANOVA)\n",
    "     *  Time series analysis: AR, ARMA, ARIMA, VAR, and other models\n",
    "     *  Nonparametric methods: Kernel density estimation, kernel regression\n",
    "     *  Visualization of statistical model results\n",
    "  * Seaborn\n",
    "  * TensorFlow \n",
    "  * PyTorch\n",
    "\n",
    "> statsmodels is more focused on statistical inference, providing uncertainty estimates and p-values for parameters. scikit-learn, by contrast, is more prediction focused.\n",
    "\n",
    "\n",
    "## 甜点\n",
    "* `exit()` to exit Python shell, or press `Ctrl+D`\n",
    "* `Ipython` also called Python ke\n",
    "*  [Ipython documentation](https://ipython.readthedocs.io/)nel \n",
    "* `pip install --upgrade package_name` used to update the package\n",
    "* use `Caution` and `Note` to insert the opi\n",
    "* press `Tab` to call the namespace， if need call private method, need input _ then press `Tab`\n",
    "* use `?` 来查看对象属性，如`print?`\n",
    "* getattr(a, \"split\")\n",
    "* hasattr\n",
    "* setattr\n",
    "* This is sometimes called duck typing, after the saying \"If it walks like a duck and quacks like a duck, then it's a duck.\"\n",
    "* nion\n",
    "\n",
    "## 编程工具\n",
    "* IDE : Integrated developmentEnvironment\n",
    "  * PyDev: IDE built on the Eclipse platform\n",
    "  * PyCharm from JetBrain\n",
    "  * Visual Studio (for Windows users)\n",
    "  * Spyder (free), an IDE currently shipped with Anaconda\n",
    "  * Komodo IDE (commerc ial)\n",
    "* Emascs: editor\n",
    "* Vim: editor\n",
    "\n",
    "## 社区\n",
    "* pydata: A Google Group list for questions related to Python for data analysis and pandas\n",
    "* \r\n",
    "pystatsmodels: For statsmodels or pandas-related questio\n",
    "* \r\n",
    "\r\n",
    "Mailing list for scikit-learn (scikit-learn@python.org) and machine learning in Python, gener\n",
    "* ly\r\n",
    "\r\n",
    "numpy-discussion: For NumPy-related que\n",
    "* ions\r\n",
    "\r\n",
    "scipy-user: For general SciPy or scientific Python que## 其它编程 Rust\n",
    "* 言sti\n",
    "* LUA\n",
    "* TSQL\n",
    "* MAKEFILE\n",
    "* Powershell\n",
    "* Groovyon Java sript\n",
    "* Type script\n",
    "* PHP\n",
    "* Shell\n",
    "* Go\n",
    "* HCL\n",
    "* Kotlin\n",
    "* Dart\n",
    "* SCSS\n",
    "* \n",
    "\n",
    "\n",
    "* Ru Perl\n",
    "* R\n",
    "* MATLAB\n",
    "* SAS\n",
    "* Stata\n",
    "* C\n",
    "* C++\n",
    "* FORTRAN\n",
    "* BLADE\n",
    "* TEX\n",
    "* R\n",
    "\n",
    "## Attributes and methods\n",
    "* Attributes是Object\n",
    "* methods是function\n",
    "\n",
    "* \n",
    "\n",
    "* Java\n",
    "* C#"
   ]
  },
  {
   "cell_type": "code",
   "execution_count": null,
   "id": "b812cdef-1129-46e8-809a-392b481fa449",
   "metadata": {},
   "outputs": [],
   "source": [
    "import numpy as np\n",
    "import matplotlib.pyplot as plt\n",
    "import pandas as pd\n",
    "import seaborn as sns\n",
    "import statsmodels as sm"
   ]
  },
  {
   "cell_type": "code",
   "execution_count": 18,
   "id": "6bacb8b6-8967-4b60-8449-924cb8c124e8",
   "metadata": {},
   "outputs": [
    {
     "data": {
      "text/plain": [
       "\u001b[1;31mType:\u001b[0m        list\n",
       "\u001b[1;31mString form:\u001b[0m [1, 2, 3]\n",
       "\u001b[1;31mLength:\u001b[0m      3\n",
       "\u001b[1;31mDocstring:\u001b[0m  \n",
       "Built-in mutable sequence.\n",
       "\n",
       "If no argument is given, the constructor creates a new empty list.\n",
       "The argument must be an iterable if specified."
      ]
     },
     "metadata": {},
     "output_type": "display_data"
    }
   ],
   "source": [
    "b=[1,2,3]\n",
    "b?"
   ]
  },
  {
   "cell_type": "code",
   "execution_count": 21,
   "id": "0fe31707-76d8-4ff1-a12d-a48d5d306c2e",
   "metadata": {},
   "outputs": [
    {
     "name": "stdout",
     "output_type": "stream",
     "text": [
      "[1, 2, 3, 4]\n"
     ]
    }
   ],
   "source": [
    "a=[1,2,3]\n",
    "b=a\n",
    "b.append(4)\n",
    "print(a)"
   ]
  },
  {
   "cell_type": "code",
   "execution_count": null,
   "id": "3ae7e979-7040-4f42-927f-e7f971e22613",
   "metadata": {},
   "outputs": [],
   "source": [
    "a='foo'\n"
   ]
  },
  {
   "cell_type": "markdown",
   "id": "92bb7c4a-b684-4014-bce2-58237bb5e7b7",
   "metadata": {},
   "source": [
    "# unicode码转为utf-8码 （同样适用于utf-16）"
   ]
  },
  {
   "cell_type": "code",
   "execution_count": 45,
   "id": "5fd9f8a1-ceed-44c4-b2c0-04795238f699",
   "metadata": {},
   "outputs": [
    {
     "data": {
      "text/plain": [
       "b'\\xe7\\x8e\\x8b\\xe4\\xbc\\x9f'"
      ]
     },
     "execution_count": 45,
     "metadata": {},
     "output_type": "execute_result"
    }
   ],
   "source": [
    "a='王伟'\n",
    "b=a.encode('utf-8')\n",
    "b"
   ]
  },
  {
   "cell_type": "markdown",
   "id": "e06b09f9-c50f-4e08-9adf-95764bb8cfdf",
   "metadata": {},
   "source": [
    "# utf-8码转为unicode码"
   ]
  },
  {
   "cell_type": "code",
   "execution_count": 49,
   "id": "811a5b08-c3a3-4928-96f5-bc37b49dae49",
   "metadata": {},
   "outputs": [
    {
     "data": {
      "text/plain": [
       "'王伟'"
      ]
     },
     "execution_count": 49,
     "metadata": {},
     "output_type": "execute_result"
    }
   ],
   "source": [
    "c=b.decode('utf-8')\n",
    "c"
   ]
  },
  {
   "cell_type": "code",
   "execution_count": 54,
   "id": "f2ea7a8b-91d5-4eae-a3f2-37a2c6183882",
   "metadata": {},
   "outputs": [
    {
     "data": {
      "text/plain": [
       "'2011-10-29 20:30'"
      ]
     },
     "execution_count": 54,
     "metadata": {},
     "output_type": "execute_result"
    }
   ],
   "source": [
    "from datetime import datetime, date, time\n",
    "dt = datetime(2011, 10, 29, 20, 30, 21)\n",
    "dt.date()\n",
    "dt.time()\n",
    "dt.strftime(\"%Y-%m-%d %H:%M\")"
   ]
  },
  {
   "cell_type": "code",
   "execution_count": 56,
   "id": "f0343162-1771-4526-908c-6277d0001acb",
   "metadata": {},
   "outputs": [
    {
     "data": {
      "text/plain": [
       "datetime.datetime(2009, 10, 31, 0, 0)"
      ]
     },
     "execution_count": 56,
     "metadata": {},
     "output_type": "execute_result"
    }
   ],
   "source": [
    "datetime.strptime(\"20091031\", \"%Y%m%d\")"
   ]
  },
  {
   "cell_type": "markdown",
   "id": "ed681358-2925-4793-b588-23db19cf1764",
   "metadata": {},
   "source": [
    "> 有一次，古希腊哲学家皮浪乘船时，遇到了巨大的暴风雨。他看到有些乘客非常害怕，就以自己携带的猪还在专心进食，来安慰他们不要担心。这件事让我们思考，人类引以为傲的理性，是不是在折磨我们，让我们失去平静？\n",
    "\n",
    "> 遥远的事物总是对我有一种永恒的吸引。（I am tormented with an everlasting itch for things remote.）\n",
    ">\n",
    "> 具有讽刺意味的是，忠诚的员工更可能被选为企业的剥削目标。企业会假设，忠诚的员工更愿意为企业做出个人牺牲。\n",
    ">\n",
    "> 任何不经常改主意的人，都大大低估了我们生活的世界的复杂性。\n",
    ">\n",
    "> 一道闪电含有大约0.25千瓦时的能量，换算成电费，只有1角多的人民币。\n",
    ">\n",
    "> 直到有一天，你意识到了你会死，手头的事情做不完，一切就都发生了改变。从那一天开始，你花费的时间才是真正花出去的时间。\n",
    ">\n",
    "> "
   ]
  },
  {
   "cell_type": "code",
   "execution_count": null,
   "id": "f211dfb2-2141-47ec-8267-3da1abfc1ecb",
   "metadata": {},
   "outputs": [],
   "source": []
  },
  {
   "cell_type": "code",
   "execution_count": 80,
   "id": "4da773e5-1bad-4115-b998-b27ba1a1f685",
   "metadata": {},
   "outputs": [
    {
     "data": {
      "text/plain": [
       "b'\\xf0\\x9f\\xa4\\xa8'"
      ]
     },
     "execution_count": 80,
     "metadata": {},
     "output_type": "execute_result"
    }
   ],
   "source": [
    "a='🤨'\n",
    "b=a.encode('utf-8')\n",
    "b"
   ]
  },
  {
   "cell_type": "code",
   "execution_count": 88,
   "id": "d13c3c54-e53f-49e0-93a6-2b0d54160dfe",
   "metadata": {},
   "outputs": [
    {
     "data": {
      "text/plain": [
       "'🤨'"
      ]
     },
     "execution_count": 88,
     "metadata": {},
     "output_type": "execute_result"
    }
   ],
   "source": [
    "a=b'\\xf0\\x9f\\xa4\\xa8'\n",
    "b=a.decode('utf-8')\n",
    "b"
   ]
  },
  {
   "cell_type": "code",
   "execution_count": null,
   "id": "409c9994-2e25-4c84-9a84-1b4a21c54471",
   "metadata": {},
   "outputs": [],
   "source": []
  },
  {
   "cell_type": "code",
   "execution_count": null,
   "id": "b7227d39-ee32-488e-b48e-e1d5572f3cb8",
   "metadata": {},
   "outputs": [],
   "source": []
  },
  {
   "cell_type": "code",
   "execution_count": null,
   "id": "30cf71c4-726d-477f-910f-069ba5f2568e",
   "metadata": {},
   "outputs": [],
   "source": []
  },
  {
   "cell_type": "code",
   "execution_count": null,
   "id": "d92aa6ac-cc8d-4dc4-a0f0-20fda5317d15",
   "metadata": {},
   "outputs": [],
   "source": []
  },
  {
   "cell_type": "code",
   "execution_count": null,
   "id": "ff0e974b-8831-44d4-a715-ffe4f7d9a945",
   "metadata": {},
   "outputs": [],
   "source": []
  },
  {
   "cell_type": "code",
   "execution_count": null,
   "id": "ba6bfb82-fac2-41a8-acc0-058d83ba30e0",
   "metadata": {},
   "outputs": [],
   "source": []
  },
  {
   "cell_type": "code",
   "execution_count": null,
   "id": "e86cc380-3876-4175-9c46-dbf9c024b131",
   "metadata": {},
   "outputs": [],
   "source": []
  },
  {
   "cell_type": "code",
   "execution_count": null,
   "id": "76fac8d0-cfc8-41b9-8cc1-806c4243e2b9",
   "metadata": {},
   "outputs": [],
   "source": []
  },
  {
   "cell_type": "code",
   "execution_count": null,
   "id": "7ced31de-3087-4d3b-96b9-955474d63860",
   "metadata": {},
   "outputs": [],
   "source": []
  },
  {
   "cell_type": "code",
   "execution_count": null,
   "id": "6d278f32-b56a-4ee6-8674-03edebefcb89",
   "metadata": {},
   "outputs": [],
   "source": []
  },
  {
   "cell_type": "code",
   "execution_count": null,
   "id": "f705926a-cc55-4a87-a04c-cea9aa9e6d7d",
   "metadata": {},
   "outputs": [],
   "source": []
  },
  {
   "cell_type": "code",
   "execution_count": null,
   "id": "d2312b65-a362-408c-a762-bf80fdff009b",
   "metadata": {},
   "outputs": [],
   "source": []
  },
  {
   "cell_type": "code",
   "execution_count": null,
   "id": "2dfa99ad-866b-4eda-9de6-0ef07ca24e2c",
   "metadata": {},
   "outputs": [],
   "source": []
  },
  {
   "cell_type": "code",
   "execution_count": 62,
   "id": "efcfdfc6-73d0-4bfd-9f8d-89f6fa72521a",
   "metadata": {},
   "outputs": [
    {
     "data": {
      "text/plain": [
       "0.01015999999999888"
      ]
     },
     "execution_count": 62,
     "metadata": {},
     "output_type": "execute_result"
    }
   ],
   "source": [
    "(1.2616-1.2612)*25.4\n"
   ]
  },
  {
   "cell_type": "code",
   "execution_count": null,
   "id": "27f42885-d644-49c3-9a3b-a9f627b5d05f",
   "metadata": {},
   "outputs": [],
   "source": []
  },
  {
   "cell_type": "code",
   "execution_count": null,
   "id": "4b330e8f-9866-457d-a147-969da8844213",
   "metadata": {},
   "outputs": [],
   "source": []
  },
  {
   "cell_type": "code",
   "execution_count": null,
   "id": "59a3a459-f88e-4d22-94a5-503f04137db2",
   "metadata": {},
   "outputs": [],
   "source": []
  },
  {
   "cell_type": "code",
   "execution_count": null,
   "id": "b1fcb175-6554-49b9-8fa0-737b01547e46",
   "metadata": {},
   "outputs": [],
   "source": []
  },
  {
   "cell_type": "code",
   "execution_count": null,
   "id": "d0aed193-c3be-46ce-b0e8-7ca6a60bfaf1",
   "metadata": {},
   "outputs": [],
   "source": []
  },
  {
   "cell_type": "code",
   "execution_count": null,
   "id": "f72bf382-9342-4faf-988e-3c1c06f65910",
   "metadata": {},
   "outputs": [],
   "source": []
  },
  {
   "cell_type": "code",
   "execution_count": null,
   "id": "bf6d3c36-e85d-4bf4-8ae8-1d224e555d31",
   "metadata": {},
   "outputs": [],
   "source": []
  },
  {
   "cell_type": "code",
   "execution_count": null,
   "id": "b6e2ad2e-900b-4d08-baad-6826c4e2c363",
   "metadata": {},
   "outputs": [],
   "source": []
  },
  {
   "cell_type": "code",
   "execution_count": null,
   "id": "f87ca1c7-bfbd-493b-bbd0-147bb5b2db55",
   "metadata": {},
   "outputs": [],
   "source": []
  },
  {
   "cell_type": "code",
   "execution_count": null,
   "id": "af16fff6-0fff-43a1-852d-2957b962b06a",
   "metadata": {},
   "outputs": [],
   "source": []
  },
  {
   "cell_type": "code",
   "execution_count": null,
   "id": "ee2cb850-7ba3-411c-9452-7fdc9e56564a",
   "metadata": {},
   "outputs": [],
   "source": []
  }
 ],
 "metadata": {
  "kernelspec": {
   "display_name": "Python 3 (ipykernel)",
   "language": "python",
   "name": "python3"
  },
  "language_info": {
   "codemirror_mode": {
    "name": "ipython",
    "version": 3
   },
   "file_extension": ".py",
   "mimetype": "text/x-python",
   "name": "python",
   "nbconvert_exporter": "python",
   "pygments_lexer": "ipython3",
   "version": "3.12.4"
  }
 },
 "nbformat": 4,
 "nbformat_minor": 5
}
