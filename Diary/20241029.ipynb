{
 "cells": [
  {
   "cell_type": "markdown",
   "id": "a9072b27-f5d1-47c9-8e51-7eb6259c864c",
   "metadata": {},
   "source": [
    "> 美国每天大约有55,000首新曲目（含纯音乐）上传到网上。"
   ]
  },
  {
   "cell_type": "markdown",
   "id": "4f31cdc9-f3ba-4216-9437-0fcb43d08dc9",
   "metadata": {},
   "source": [
    "> 反驳谣言所需的能量比产生谣言要高一个数量级。"
   ]
  },
  {
   "cell_type": "markdown",
   "id": "dd398d42-db4b-404c-ace2-3f92e5e86d5f",
   "metadata": {},
   "source": [
    "> 如果你只看大众媒体和算法推荐给你的文章，你最终将罹患智力糖尿病。"
   ]
  },
  {
   "cell_type": "markdown",
   "id": "977acfb9-496a-4e7c-9769-306aac612b9d",
   "metadata": {},
   "source": [
    "### Critical talking\n",
    "\n",
    "When talking\n",
    "1. Focus on fact\n",
    "2. Respect and frankly\n",
    "3. Manage emotion 1stly then things\n",
    "\n",
    "talking steps\n",
    "1. What is the fast\n",
    "2. What is the feeling\n",
    "3. What is his requirement\n",
    "   * Concerns\n",
    "   * \n",
    "\n",
    "Tasks：\n",
    "1. "
   ]
  },
  {
   "cell_type": "code",
   "execution_count": null,
   "id": "3d192e70-d5b4-45c2-be8c-62c3d0b4c682",
   "metadata": {},
   "outputs": [],
   "source": []
  }
 ],
 "metadata": {
  "kernelspec": {
   "display_name": "Python 3 (ipykernel)",
   "language": "python",
   "name": "python3"
  },
  "language_info": {
   "codemirror_mode": {
    "name": "ipython",
    "version": 3
   },
   "file_extension": ".py",
   "mimetype": "text/x-python",
   "name": "python",
   "nbconvert_exporter": "python",
   "pygments_lexer": "ipython3",
   "version": "3.12.4"
  }
 },
 "nbformat": 4,
 "nbformat_minor": 5
}
