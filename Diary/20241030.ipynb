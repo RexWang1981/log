{
 "cells": [
  {
   "cell_type": "markdown",
   "id": "3a8b2c9d-cd28-4c14-84b7-76877b871675",
   "metadata": {},
   "source": [
    "> 巴菲特的财产为845亿美元。其中842亿美元是在他50岁生日后获得的。他20岁进入投资业，如果只做了30年就不干了，就根本不会有人听说过他"
   ]
  },
  {
   "cell_type": "markdown",
   "id": "c5ba9d01-d6c1-4382-bad8-f32582dfaa43",
   "metadata": {},
   "source": [
    "> 由于没法做实验，没有一家药厂愿意为孕妇开发药物，这导致孕妇一旦生病，就无药可用。"
   ]
  },
  {
   "cell_type": "markdown",
   "id": "bfaa6e30-a810-4242-b31f-53e0e7fec90d",
   "metadata": {},
   "source": [
    "> 其他公司把钱花在广告和操纵公众舆论上，我们则专注于产品。"
   ]
  },
  {
   "cell_type": "markdown",
   "id": "2442276d-2640-4947-9c29-26b30b88943c",
   "metadata": {},
   "source": [
    "> 1980年，加利福尼亚的一名商人创办了一个精子库，只存储诺贝尔奖获得者和其他杰出知识权威的精子，承诺为女性提供科学界最佳精子，帮助她们生下天才婴儿。\r\n",
    "在该精子库的努力之下，大约有200名儿童出生，但还没有一人成为杰出天才，甚至连成就斐然的工程师都没有。"
   ]
  },
  {
   "cell_type": "markdown",
   "id": "bde2ccb0-26c4-447a-a1e5-f2bd19ca18dc",
   "metadata": {},
   "source": [
    "> 一项研究称，根据奥运会颁奖时的面部表情识别，铜牌得主比银牌得主更快乐。"
   ]
  },
  {
   "cell_type": "markdown",
   "id": "3f42a0dc-0d3d-4ee2-85e0-4c90f7b31bee",
   "metadata": {},
   "source": [
    "> 我一直被问到工作与生活的平衡，我的观点是，这种说法会让人变软弱，因为它意味着你必须权衡，何时工作，何时生活。实际上，工作和生活是融合在一起的，一方不顺利，另一方就会受到影响。它们不是平衡关系"
   ]
  },
  {
   "cell_type": "markdown",
   "id": "872b1974-da12-4f81-853d-977a48bb6fdd",
   "metadata": {},
   "source": [
    "> SQLite 的应用太广泛，测试量也很惊人。每个版本发布之前，都要进行各种单元测试、参数测试、模糊测试，一共有数十亿次，运行一次完整的自动化测试，需要数天时间。"
   ]
  },
  {
   "cell_type": "markdown",
   "id": "6aa18f9d-3c4a-4540-8766-308f031f5813",
   "metadata": {},
   "source": [
    "> 每一行代码都是一种负担。如果增加代码行数，就会增加你的责任。"
   ]
  },
  {
   "cell_type": "markdown",
   "id": "05e09e83-ef24-4ff4-849c-167d2e971291",
   "metadata": {},
   "source": [
    "> 高海拔地区人的平均体重，要比低海拔地区轻。"
   ]
  },
  {
   "cell_type": "markdown",
   "id": "923b4ae3-145e-41e3-9d4b-f78eee9b18b2",
   "metadata": {},
   "source": [
    "> 向别人销售东西时，要把它说得很复杂，人们愿意为复杂的东西买单；说服别人时，要把内容说得很简单，越复杂的东西，能说服的听众就越少。"
   ]
  },
  {
   "cell_type": "markdown",
   "id": "b48691d1-c220-4685-8a49-35fe22648289",
   "metadata": {},
   "source": [
    "> 频率错觉（Frequency illusion）是一种认知偏差，指的是第一次注意到某事后，往往会更频繁地注意到它，导致认为此事是高频现象。简单说，频率错觉就是“你刚刚发现一个概念或事物，然后突然发现它似乎无处不在”。"
   ]
  },
  {
   "cell_type": "markdown",
   "id": "7d3068f9-7432-4ec4-a469-d61c0449bd04",
   "metadata": {},
   "source": [
    "> Windows 的游戏优势有多大？根据 Steam 游戏平台 2021 年 6 月的数据，Linux 上玩家比例是 0.89%，macOS 是 2.54%，Windows 是 96.57%。"
   ]
  },
  {
   "cell_type": "markdown",
   "id": "4aa7a15c-91a0-4592-a28c-2f3129376e20",
   "metadata": {},
   "source": [
    "> 无所畏惧（fearless）不是没有恐惧；而是你依然心怀恐惧，但无论如何都决定要跳进去。"
   ]
  },
  {
   "cell_type": "markdown",
   "id": "225e1f97-50c3-4ac2-ace8-0492b14f1fe3",
   "metadata": {},
   "source": [
    "> 失败很少是一种永久状态。失败后，继续前进就可以了。失败只是旅程中的一站，不要让它成为你的目的地。"
   ]
  },
  {
   "cell_type": "markdown",
   "id": "a344e650-04bb-430d-b77a-90650ee512fa",
   "metadata": {},
   "source": [
    "> 认为，“去中心化”的网络要比“中心化”的网络更难建设，因为“去中心化”往往没有“中心化”所带来的商业激励，所以没有人真正推动它。"
   ]
  },
  {
   "cell_type": "code",
   "execution_count": null,
   "id": "3dc5c676-79bd-446e-8918-d2896bb671f4",
   "metadata": {},
   "outputs": [],
   "source": []
  },
  {
   "cell_type": "code",
   "execution_count": null,
   "id": "c0f1de9e-26ba-4515-a6ea-9128edc9487f",
   "metadata": {},
   "outputs": [],
   "source": []
  }
 ],
 "metadata": {
  "kernelspec": {
   "display_name": "Python 3 (ipykernel)",
   "language": "python",
   "name": "python3"
  },
  "language_info": {
   "codemirror_mode": {
    "name": "ipython",
    "version": 3
   },
   "file_extension": ".py",
   "mimetype": "text/x-python",
   "name": "python",
   "nbconvert_exporter": "python",
   "pygments_lexer": "ipython3",
   "version": "3.12.4"
  }
 },
 "nbformat": 4,
 "nbformat_minor": 5
}
