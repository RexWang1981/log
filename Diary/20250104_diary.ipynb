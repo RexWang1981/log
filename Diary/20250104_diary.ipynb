{
 "cells": [
  {
   "cell_type": "markdown",
   "metadata": {},
   "source": [
    "# Diary \n",
    "\n",
    "早上9电多醒来，开车带YT和YY去中关村，找正在上课zz。然后一起开车去了万达吃了午餐，本来想着下午全家人去摘草莓。但是yy坚决不去。于是先送他回家。再开车去摘草莓了。草莓不错。不过价格很贵，摘了两小框。花了280元人名币。还是有点小贵。不过老婆孩子爱吃，就不算浪费。下午送他们回家后，我去公司加班。\n",
    "\n",
    "今天和明天公司车间都是上班的。Bin问道PCBA的事情，我表示无法让步，让他发邮件问老板。老板给的指示是只要iqc检验OK就用。\n",
    "\n",
    "另外我回复了关于电路板的一些邮件，做了一些图纸料号赠礼，花了不少时间。觉得太浪费时间。于是就开始学习DFMEA。\n",
    "\n",
    "DFMEA的前期规划对我来说最难。\n",
    "\n",
    "功能图，边界图。这些好了，其它就都好弄了。\n",
    "\n",
    "先学习再说。"
   ]
  },
  {
   "cell_type": "code",
   "execution_count": null,
   "metadata": {},
   "outputs": [],
   "source": []
  },
  {
   "cell_type": "markdown",
   "metadata": {},
   "source": [
    "yy还是沉迷在游戏中无法自拔。  \n",
    "他说有网络上的朋友给他钱。但是拒绝告诉我们为什么给他。  \n",
    "同时他还说账户上有60多块钱。  \n",
    "想回太原  \n",
    "不想学习了  \n",
    "认为学习没有意义  \n",
    "什么时候有用，什么时候再学  \n"
   ]
  }
 ],
 "metadata": {
  "kernelspec": {
   "display_name": "base",
   "language": "python",
   "name": "python3"
  },
  "language_info": {
   "codemirror_mode": {
    "name": "ipython",
    "version": 3
   },
   "file_extension": ".py",
   "mimetype": "text/x-python",
   "name": "python",
   "nbconvert_exporter": "python",
   "pygments_lexer": "ipython3",
   "version": "3.12.4"
  }
 },
 "nbformat": 4,
 "nbformat_minor": 2
}
