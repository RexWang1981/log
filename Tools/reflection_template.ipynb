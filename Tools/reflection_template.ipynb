{
 "cells": [
  {
   "cell_type": "markdown",
   "metadata": {},
   "source": [
    "# Reflection : xxx [DIEP model - Bound, Keogh & Walker, 1985]"
   ]
  },
  {
   "cell_type": "markdown",
   "metadata": {},
   "source": [
    "## 1. Describe\n",
    "\n",
    "### 1.1 What happend?\n",
    "\n",
    "\n",
    "### 1.2 What did you do?"
   ]
  },
  {
   "cell_type": "markdown",
   "metadata": {},
   "source": []
  },
  {
   "cell_type": "markdown",
   "metadata": {},
   "source": [
    "## 2. Interpret \n",
    "\n",
    "### 2.1 What does the experience maan to you as a learner?\n",
    "\n",
    "### 2.2 Why?"
   ]
  },
  {
   "cell_type": "markdown",
   "metadata": {},
   "source": [
    "## 3. Evaluate\n",
    "\n",
    "### 3.1 How valuable was the experiance?\n",
    "\n",
    "### 3.2 Why?"
   ]
  },
  {
   "cell_type": "markdown",
   "metadata": {},
   "source": [
    "## 4. Plan\n",
    "\n",
    "### 4.1What will you do with your learning?\n",
    "\n",
    "### 4.2 How will you do it?"
   ]
  }
 ],
 "metadata": {
  "language_info": {
   "name": "python"
  }
 },
 "nbformat": 4,
 "nbformat_minor": 2
}
